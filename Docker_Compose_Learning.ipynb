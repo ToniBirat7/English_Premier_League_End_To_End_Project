{
 "cells": [
  {
   "cell_type": "markdown",
   "id": "89fd57ed",
   "metadata": {},
   "source": [
    "## **Step 1: Project Setup**\n",
    "\n",
    "First, let's create our project directory structure:\n"
   ]
  },
  {
   "cell_type": "markdown",
   "id": "077cd18c",
   "metadata": {},
   "source": [
    "## **Intro**\n",
    "\n",
    "Here we will try to create multiple containers using Docker Compose. We will try to make the communcation between the containers using docker networks and also with the host machine.\n"
   ]
  },
  {
   "cell_type": "markdown",
   "metadata": {},
   "source": [
    "## **Project Overview**\n",
    "\n",
    "We'll create a simple **Todo Application** with:\n",
    "\n",
    "- **Frontend**: React app (Port 3000)\n",
    "- **Backend**: FastAPI (Port 8000)\n",
    "- **Database**: PostgreSQL (Port 5432)\n",
    "\n",
    "### Architecture:\n",
    "\n",
    "```\n",
    "React Frontend (localhost:3000)\n",
    "     ↓ HTTP requests\n",
    "FastAPI Backend (localhost:8000)\n",
    "     ↓ SQL queries\n",
    "PostgreSQL Database (internal network)\n",
    "```\n",
    "\n",
    "### Learning Goals:\n",
    "\n",
    "1. Multi-container orchestration with Docker Compose\n",
    "2. Docker networking between containers\n",
    "3. Environment variables for configuration\n",
    "4. Volume mounting for database persistence\n",
    "5. Service dependencies and health checks\n"
   ]
  }
 ],
 "metadata": {
  "language_info": {
   "name": "python"
  }
 },
 "nbformat": 4,
 "nbformat_minor": 5
}
